{
 "cells": [
  {
   "cell_type": "markdown",
   "metadata": {
    "id": "kkHWWtB5hUUX"
   },
   "source": [
    "**1. Unzip the folder 'Project1'**"
   ]
  },
  {
   "cell_type": "markdown",
   "metadata": {
    "id": "5o3FVu96hs4_"
   },
   "source": [
    "**2. Create 16 Statistical Feature Dataset**"
   ]
  },
  {
   "cell_type": "code",
   "execution_count": null,
   "metadata": {
    "id": "DD6gIe2ihTkC"
   },
   "outputs": [],
   "source": [
    "import pandas as pd\n",
    "import numpy as np\n",
    "from scipy.linalg import eigh\n",
    "import glob\n",
    "import os\n",
    "\n",
    "def process_file(file_path):\n",
    "    # Extract class information from the filename\n",
    "    file_name = os.path.basename(file_path)\n",
    "    class_info = file_name.split('_')[3]\n",
    "\n",
    "    df = pd.read_csv(file_path)\n",
    "\n",
    "    # 1. Count the occurrences of each StopID for each Frame Num\n",
    "    frame_stop_counts = df.groupby(['Frame Num', 'StopID']).size().unstack(fill_value=0)\n",
    "    frame_stop_counts.columns = [f\"{col}_stop_counts\" for col in frame_stop_counts.columns]\n",
    "\n",
    "    # 2. Calculate the mean distance for each StopID for each Frame Num\n",
    "    stop_distance_means = df.groupby(['Frame Num', 'StopID'])['Distance'].mean().unstack(fill_value=0)\n",
    "    stop_distance_means.columns = [f\"{col}_stop_distance_means\" for col in stop_distance_means.columns]\n",
    "\n",
    "    # 3. Calculate the mean and variance of StopID for each Frame Num\n",
    "    stop_mean_variance = df.groupby('Frame Num')['StopID'].agg(['mean', 'var'])\n",
    "    stop_mean_variance.columns = [f\"StopID_{col}\" for col in stop_mean_variance.columns]\n",
    "\n",
    "    # 4. Calculate the mean distance for each Frame Num\n",
    "    distance_means = df.groupby('Frame Num')['Distance'].mean().rename('Distance_mean')\n",
    "\n",
    "    # 5. Calculate the mean Azimuth for each Frame Num\n",
    "    azimuth_means = df.groupby('Frame Num')['Azimuth'].mean().rename('Azimuth_mean')\n",
    "\n",
    "    # 6. Calculate the mean VerticalAngle for each Frame Num\n",
    "    vertical_angle_means = df.groupby('Frame Num')['VerticalAngle'].mean().rename('VerticalAngle_mean')\n",
    "\n",
    "    # 7. Calculate the mean and variance of Intensity for each Frame Num\n",
    "    intensity_mean_variance = df.groupby('Frame Num')['Intensity'].agg(['mean', 'var'])\n",
    "    intensity_mean_variance.columns = [f\"Intensity_{col}\" for col in intensity_mean_variance.columns]\n",
    "\n",
    "    # 8. Calculate the eigenvalues of the covariance matrix for x, y, z for each Frame Num\n",
    "    eig_values = df.groupby('Frame Num')[['X', 'Y', 'Z']].apply(lambda x: pd.Series(eigh(np.cov(x, rowvar=False))[0], index=['eig_cov_x', 'eig_cov_y', 'eig_cov_z']))\n",
    "\n",
    "    # Create a DataFrame with the results\n",
    "    result_df = pd.concat([frame_stop_counts, stop_distance_means, stop_mean_variance, distance_means, azimuth_means, vertical_angle_means, intensity_mean_variance, eig_values], axis=1)\n",
    "\n",
    "    # Fill NaN values with 0\n",
    "    result_df.fillna(0, inplace=True)\n",
    "\n",
    "    # Add class column\n",
    "    result_df['Class'] = class_info\n",
    "\n",
    "    return result_df\n",
    "\n",
    "# Path to the input files\n",
    "input_path = 'path/to/your/input/*.csv'  # e.g., 'C:/user/documents/input/*.csv'\n",
    "output_path = 'path/to/your/output/combined_output.csv'  # e.g., 'C:/user/documents/output/combined_output.csv'\n",
    "\n",
    "# Process each file and combine the results\n",
    "all_results = []\n",
    "for file in glob.glob(input_path):\n",
    "    result = process_file(file)\n",
    "    all_results.append(result)\n",
    "\n",
    "# Combine all results into a single DataFrame\n",
    "combined_df = pd.concat(all_results)\n",
    "\n",
    "# Save the result to a CSV file\n",
    "combined_df.to_csv(output_path, index=True)"
   ]
  },
  {
   "cell_type": "markdown",
   "metadata": {
    "id": "KD17SIOjjb5j"
   },
   "source": [
    "**3. K-Nearest Neighbor Model (K=10)**"
   ]
  },
  {
   "cell_type": "code",
   "execution_count": null,
   "metadata": {
    "colab": {
     "base_uri": "https://localhost:8080/"
    },
    "id": "CNuzAHsPhre4",
    "outputId": "7d0dd5ba-4912-47a3-93aa-0ea7e49aae4c"
   },
   "outputs": [
    {
     "name": "stdout",
     "output_type": "stream",
     "text": [
      "Train accuracy: 0.9950525664811379\n",
      "Test Accuracy: 0.9919215233698788\n"
     ]
    }
   ],
   "source": [
    "import pandas as pd\n",
    "from sklearn.model_selection import train_test_split\n",
    "from sklearn.preprocessing import StandardScaler\n",
    "from sklearn.neighbors import KNeighborsClassifier\n",
    "from sklearn.metrics import accuracy_score\n",
    "\n",
    "# File Load\n",
    "file_path = 'path/to/your/output/combined_output.csv'\n",
    "data = pd.read_csv(file_path)\n",
    "\n",
    "# Define Feature X and Target Y\n",
    "X = data.drop(['Frame Num', 'Class'], axis=1)\n",
    "y = data['Class']\n",
    "\n",
    "# Divide Train set (70%) and Test set(30%)\n",
    "X_train, X_test, y_train, y_test = train_test_split(X, y, test_size=0.3, random_state=42, shuffle=True)\n",
    "\n",
    "# Data Scaling\n",
    "scaler = StandardScaler()\n",
    "X_train_scaled = scaler.fit_transform(X_train)\n",
    "X_test_scaled = scaler.transform(X_test)\n",
    "\n",
    "X_train_scaled.shape, X_test_scaled.shape, y_train.shape, y_test.shape\n",
    "\n",
    "# KNN Model (k=10)\n",
    "knn = KNeighborsClassifier(n_neighbors=10)\n",
    "knn.fit(X_train_scaled, y_train)\n",
    "\n",
    "y_pred = knn.predict(X_test_scaled)\n",
    "\n",
    "# Accuracy\n",
    "test_accuracy = accuracy_score(y_test, y_pred)\n",
    "train_accuracy = knn.score(X_train_scaled,y_train)\n",
    "print(f'Train accuracy: {train_accuracy}')\n",
    "print(f'Test Accuracy: {test_accuracy}')"
   ]
  },
  {
   "cell_type": "markdown",
   "metadata": {
    "id": "XU6pkiTjkcei"
   },
   "source": [
    "**4. Random Forest Model**"
   ]
  },
  {
   "cell_type": "code",
   "execution_count": 4,
   "metadata": {
    "colab": {
     "base_uri": "https://localhost:8080/",
     "height": 1000
    },
    "id": "bHXYwtgUkwI1",
    "outputId": "8310fd4d-371e-4801-a9dd-fd35aaf6c9a4"
   },
   "outputs": [
    {
     "name": "stdout",
     "output_type": "stream",
     "text": [
      "Train accuracy: 1.0\n",
      "Test accuracy: 0.9945181765724178\n"
     ]
    },
    {
     "ename": "InvalidParameterError",
     "evalue": "The 'class_names' parameter of plot_tree must be an array-like, an instance of 'bool', an instance of 'numpy.bool_' or an instance of 'int' or None. Got '[1 2 3 4 5]' instead.",
     "output_type": "error",
     "traceback": [
      "\u001b[1;31m---------------------------------------------------------------------------\u001b[0m",
      "\u001b[1;31mInvalidParameterError\u001b[0m                     Traceback (most recent call last)",
      "Cell \u001b[1;32mIn[4], line 33\u001b[0m\n\u001b[0;32m     30\u001b[0m \u001b[38;5;28;01mimport\u001b[39;00m \u001b[38;5;21;01mmatplotlib\u001b[39;00m\u001b[38;5;21;01m.\u001b[39;00m\u001b[38;5;21;01mpyplot\u001b[39;00m \u001b[38;5;28;01mas\u001b[39;00m \u001b[38;5;21;01mplt\u001b[39;00m\n\u001b[0;32m     32\u001b[0m plt\u001b[38;5;241m.\u001b[39mfigure(figsize\u001b[38;5;241m=\u001b[39m(\u001b[38;5;241m20\u001b[39m,\u001b[38;5;241m10\u001b[39m))\n\u001b[1;32m---> 33\u001b[0m \u001b[43mplot_tree\u001b[49m\u001b[43m(\u001b[49m\u001b[43mdt_classifier\u001b[49m\u001b[43m,\u001b[49m\u001b[43m \u001b[49m\u001b[43mfilled\u001b[49m\u001b[38;5;241;43m=\u001b[39;49m\u001b[38;5;28;43;01mTrue\u001b[39;49;00m\u001b[43m,\u001b[49m\u001b[43m \u001b[49m\u001b[43mfeature_names\u001b[49m\u001b[38;5;241;43m=\u001b[39;49m\u001b[43mX\u001b[49m\u001b[38;5;241;43m.\u001b[39;49m\u001b[43mcolumns\u001b[49m\u001b[43m,\u001b[49m\u001b[43m \u001b[49m\u001b[43mclass_names\u001b[49m\u001b[38;5;241;43m=\u001b[39;49m\u001b[38;5;28;43mstr\u001b[39;49m\u001b[43m(\u001b[49m\u001b[43mdt_classifier\u001b[49m\u001b[38;5;241;43m.\u001b[39;49m\u001b[43mclasses_\u001b[49m\u001b[43m)\u001b[49m\u001b[43m)\u001b[49m\n\u001b[0;32m     34\u001b[0m plt\u001b[38;5;241m.\u001b[39mshow()\n\u001b[0;32m     36\u001b[0m \u001b[38;5;66;03m# Feature Importance\u001b[39;00m\n",
      "File \u001b[1;32m~\\AppData\\Roaming\\Python\\Python38\\site-packages\\sklearn\\utils\\_param_validation.py:204\u001b[0m, in \u001b[0;36mvalidate_params.<locals>.decorator.<locals>.wrapper\u001b[1;34m(*args, **kwargs)\u001b[0m\n\u001b[0;32m    201\u001b[0m to_ignore \u001b[38;5;241m+\u001b[39m\u001b[38;5;241m=\u001b[39m [\u001b[38;5;124m\"\u001b[39m\u001b[38;5;124mself\u001b[39m\u001b[38;5;124m\"\u001b[39m, \u001b[38;5;124m\"\u001b[39m\u001b[38;5;124mcls\u001b[39m\u001b[38;5;124m\"\u001b[39m]\n\u001b[0;32m    202\u001b[0m params \u001b[38;5;241m=\u001b[39m {k: v \u001b[38;5;28;01mfor\u001b[39;00m k, v \u001b[38;5;129;01min\u001b[39;00m params\u001b[38;5;241m.\u001b[39marguments\u001b[38;5;241m.\u001b[39mitems() \u001b[38;5;28;01mif\u001b[39;00m k \u001b[38;5;129;01mnot\u001b[39;00m \u001b[38;5;129;01min\u001b[39;00m to_ignore}\n\u001b[1;32m--> 204\u001b[0m \u001b[43mvalidate_parameter_constraints\u001b[49m\u001b[43m(\u001b[49m\n\u001b[0;32m    205\u001b[0m \u001b[43m    \u001b[49m\u001b[43mparameter_constraints\u001b[49m\u001b[43m,\u001b[49m\u001b[43m \u001b[49m\u001b[43mparams\u001b[49m\u001b[43m,\u001b[49m\u001b[43m \u001b[49m\u001b[43mcaller_name\u001b[49m\u001b[38;5;241;43m=\u001b[39;49m\u001b[43mfunc\u001b[49m\u001b[38;5;241;43m.\u001b[39;49m\u001b[38;5;18;43m__qualname__\u001b[39;49m\n\u001b[0;32m    206\u001b[0m \u001b[43m\u001b[49m\u001b[43m)\u001b[49m\n\u001b[0;32m    208\u001b[0m \u001b[38;5;28;01mtry\u001b[39;00m:\n\u001b[0;32m    209\u001b[0m     \u001b[38;5;28;01mwith\u001b[39;00m config_context(\n\u001b[0;32m    210\u001b[0m         skip_parameter_validation\u001b[38;5;241m=\u001b[39m(\n\u001b[0;32m    211\u001b[0m             prefer_skip_nested_validation \u001b[38;5;129;01mor\u001b[39;00m global_skip_validation\n\u001b[0;32m    212\u001b[0m         )\n\u001b[0;32m    213\u001b[0m     ):\n",
      "File \u001b[1;32m~\\AppData\\Roaming\\Python\\Python38\\site-packages\\sklearn\\utils\\_param_validation.py:96\u001b[0m, in \u001b[0;36mvalidate_parameter_constraints\u001b[1;34m(parameter_constraints, params, caller_name)\u001b[0m\n\u001b[0;32m     90\u001b[0m \u001b[38;5;28;01melse\u001b[39;00m:\n\u001b[0;32m     91\u001b[0m     constraints_str \u001b[38;5;241m=\u001b[39m (\n\u001b[0;32m     92\u001b[0m         \u001b[38;5;124mf\u001b[39m\u001b[38;5;124m\"\u001b[39m\u001b[38;5;132;01m{\u001b[39;00m\u001b[38;5;124m'\u001b[39m\u001b[38;5;124m, \u001b[39m\u001b[38;5;124m'\u001b[39m\u001b[38;5;241m.\u001b[39mjoin([\u001b[38;5;28mstr\u001b[39m(c)\u001b[38;5;250m \u001b[39m\u001b[38;5;28;01mfor\u001b[39;00m\u001b[38;5;250m \u001b[39mc\u001b[38;5;250m \u001b[39m\u001b[38;5;129;01min\u001b[39;00m\u001b[38;5;250m \u001b[39mconstraints[:\u001b[38;5;241m-\u001b[39m\u001b[38;5;241m1\u001b[39m]])\u001b[38;5;132;01m}\u001b[39;00m\u001b[38;5;124m or\u001b[39m\u001b[38;5;124m\"\u001b[39m\n\u001b[0;32m     93\u001b[0m         \u001b[38;5;124mf\u001b[39m\u001b[38;5;124m\"\u001b[39m\u001b[38;5;124m \u001b[39m\u001b[38;5;132;01m{\u001b[39;00mconstraints[\u001b[38;5;241m-\u001b[39m\u001b[38;5;241m1\u001b[39m]\u001b[38;5;132;01m}\u001b[39;00m\u001b[38;5;124m\"\u001b[39m\n\u001b[0;32m     94\u001b[0m     )\n\u001b[1;32m---> 96\u001b[0m \u001b[38;5;28;01mraise\u001b[39;00m InvalidParameterError(\n\u001b[0;32m     97\u001b[0m     \u001b[38;5;124mf\u001b[39m\u001b[38;5;124m\"\u001b[39m\u001b[38;5;124mThe \u001b[39m\u001b[38;5;132;01m{\u001b[39;00mparam_name\u001b[38;5;132;01m!r}\u001b[39;00m\u001b[38;5;124m parameter of \u001b[39m\u001b[38;5;132;01m{\u001b[39;00mcaller_name\u001b[38;5;132;01m}\u001b[39;00m\u001b[38;5;124m must be\u001b[39m\u001b[38;5;124m\"\u001b[39m\n\u001b[0;32m     98\u001b[0m     \u001b[38;5;124mf\u001b[39m\u001b[38;5;124m\"\u001b[39m\u001b[38;5;124m \u001b[39m\u001b[38;5;132;01m{\u001b[39;00mconstraints_str\u001b[38;5;132;01m}\u001b[39;00m\u001b[38;5;124m. Got \u001b[39m\u001b[38;5;132;01m{\u001b[39;00mparam_val\u001b[38;5;132;01m!r}\u001b[39;00m\u001b[38;5;124m instead.\u001b[39m\u001b[38;5;124m\"\u001b[39m\n\u001b[0;32m     99\u001b[0m )\n",
      "\u001b[1;31mInvalidParameterError\u001b[0m: The 'class_names' parameter of plot_tree must be an array-like, an instance of 'bool', an instance of 'numpy.bool_' or an instance of 'int' or None. Got '[1 2 3 4 5]' instead."
     ]
    },
    {
     "data": {
      "text/plain": [
       "<Figure size 2000x1000 with 0 Axes>"
      ]
     },
     "metadata": {},
     "output_type": "display_data"
    }
   ],
   "source": [
    "import pandas as pd\n",
    "from sklearn.model_selection import train_test_split\n",
    "from sklearn.tree import DecisionTreeClassifier\n",
    "from sklearn.metrics import accuracy_score\n",
    "\n",
    "# File Load\n",
    "file_path = 'E:/NeulPS 2024 Paper Dataset/Project1_EnvrionmentalFactorClassification/combined_output.csv'\n",
    "data = pd.read_csv(file_path)\n",
    "\n",
    "# Define features (X) and target (y)\n",
    "X = data.drop(['Frame Num', 'Class'], axis=1)\n",
    "y = data['Class']\n",
    "\n",
    "# Split the data into training and testing sets\n",
    "X_train, X_test, y_train, y_test = train_test_split(X, y, test_size=0.3, random_state=42)\n",
    "\n",
    "# Train the decision tree model\n",
    "dt_classifier = DecisionTreeClassifier(max_depth=16, random_state=42)\n",
    "dt_classifier.fit(X_train, y_train)\n",
    "\n",
    "# Evaluate the model's accuracy on the test set\n",
    "y_pred = dt_classifier.predict(X_test)\n",
    "test_accuracy = accuracy_score(y_test, y_pred)\n",
    "train_accuracy = dt_classifier.score(X_train,y_train)\n",
    "print(f'Train accuracy: {train_accuracy}')\n",
    "print(f'Test accuracy: {test_accuracy}')\n",
    "\n",
    "# Plot the tree structure\n",
    "from sklearn.tree import plot_tree\n",
    "import matplotlib.pyplot as plt\n",
    "\n",
    "plt.figure(figsize=(20,10))\n",
    "plot_tree(dt_classifier, filled=True, feature_names=X.columns, class_names=str(dt_classifier.classes_))\n",
    "plt.show()\n",
    "\n",
    "# Feature Importance\n",
    "pd.Series(dt_classifier.feature_importances_, index=X.columns).sort_values(ascending=False).plot(kind='bar')\n",
    "plt.title('Feature Importances')\n",
    "plt.show()"
   ]
  },
  {
   "cell_type": "markdown",
   "metadata": {
    "id": "EpmySevYkMtb"
   },
   "source": [
    "**5. Deep Neural Network Model**"
   ]
  },
  {
   "cell_type": "code",
   "execution_count": null,
   "metadata": {
    "colab": {
     "base_uri": "https://localhost:8080/",
     "height": 1000
    },
    "id": "QOaLoe9SlCFJ",
    "outputId": "63eb38b5-b03a-4053-d922-4694f63d1fe2"
   },
   "outputs": [
    {
     "name": "stdout",
     "output_type": "stream",
     "text": [
      "Model: \"sequential\"\n",
      "_________________________________________________________________\n",
      " Layer (type)                Output Shape              Param #   \n",
      "=================================================================\n",
      " dense (Dense)               (None, 128)               2176      \n",
      "                                                                 \n",
      " dropout (Dropout)           (None, 128)               0         \n",
      "                                                                 \n",
      " dense_1 (Dense)             (None, 64)                8256      \n",
      "                                                                 \n",
      " dense_2 (Dense)             (None, 5)                 325       \n",
      "                                                                 \n",
      "=================================================================\n",
      "Total params: 10757 (42.02 KB)\n",
      "Trainable params: 10757 (42.02 KB)\n",
      "Non-trainable params: 0 (0.00 Byte)\n",
      "_________________________________________________________________\n",
      "Epoch 1/50\n",
      "566/566 [==============================] - 5s 4ms/step - loss: 1.0622 - accuracy: 0.9309 - val_loss: 0.3988 - val_accuracy: 0.9699\n",
      "Epoch 2/50\n",
      "566/566 [==============================] - 2s 3ms/step - loss: 0.3547 - accuracy: 0.9689 - val_loss: 0.2816 - val_accuracy: 0.9699\n",
      "Epoch 3/50\n",
      "566/566 [==============================] - 2s 4ms/step - loss: 0.2851 - accuracy: 0.9707 - val_loss: 0.2389 - val_accuracy: 0.9707\n",
      "Epoch 4/50\n",
      "566/566 [==============================] - 3s 5ms/step - loss: 0.2534 - accuracy: 0.9733 - val_loss: 0.2152 - val_accuracy: 0.9806\n",
      "Epoch 5/50\n",
      "566/566 [==============================] - 2s 4ms/step - loss: 0.2333 - accuracy: 0.9754 - val_loss: 0.1987 - val_accuracy: 0.9798\n",
      "Epoch 6/50\n",
      "566/566 [==============================] - 2s 3ms/step - loss: 0.2167 - accuracy: 0.9777 - val_loss: 0.1806 - val_accuracy: 0.9815\n",
      "Epoch 7/50\n",
      "566/566 [==============================] - 2s 3ms/step - loss: 0.2041 - accuracy: 0.9797 - val_loss: 0.1710 - val_accuracy: 0.9876\n",
      "Epoch 8/50\n",
      "566/566 [==============================] - 2s 3ms/step - loss: 0.1955 - accuracy: 0.9811 - val_loss: 0.1737 - val_accuracy: 0.9835\n",
      "Epoch 9/50\n",
      "566/566 [==============================] - 2s 4ms/step - loss: 0.1829 - accuracy: 0.9795 - val_loss: 0.1555 - val_accuracy: 0.9901\n",
      "Epoch 10/50\n",
      "566/566 [==============================] - 2s 4ms/step - loss: 0.1848 - accuracy: 0.9800 - val_loss: 0.1671 - val_accuracy: 0.9786\n",
      "Epoch 11/50\n",
      "566/566 [==============================] - 3s 5ms/step - loss: 0.1757 - accuracy: 0.9807 - val_loss: 0.1634 - val_accuracy: 0.9831\n",
      "Epoch 12/50\n",
      "566/566 [==============================] - 2s 4ms/step - loss: 0.1673 - accuracy: 0.9836 - val_loss: 0.1484 - val_accuracy: 0.9847\n",
      "Epoch 13/50\n",
      "566/566 [==============================] - 2s 3ms/step - loss: 0.1704 - accuracy: 0.9827 - val_loss: 0.1491 - val_accuracy: 0.9843\n",
      "Epoch 14/50\n",
      "566/566 [==============================] - 2s 3ms/step - loss: 0.1610 - accuracy: 0.9834 - val_loss: 0.1465 - val_accuracy: 0.9880\n",
      "Epoch 15/50\n",
      "566/566 [==============================] - 2s 3ms/step - loss: 0.1586 - accuracy: 0.9825 - val_loss: 0.1398 - val_accuracy: 0.9856\n",
      "Epoch 16/50\n",
      "566/566 [==============================] - 2s 4ms/step - loss: 0.1557 - accuracy: 0.9823 - val_loss: 0.1356 - val_accuracy: 0.9889\n",
      "Epoch 17/50\n",
      "566/566 [==============================] - 2s 4ms/step - loss: 0.1637 - accuracy: 0.9814 - val_loss: 0.1519 - val_accuracy: 0.9806\n",
      "Epoch 18/50\n",
      "566/566 [==============================] - 3s 5ms/step - loss: 0.1432 - accuracy: 0.9860 - val_loss: 0.1233 - val_accuracy: 0.9930\n",
      "Epoch 19/50\n",
      "566/566 [==============================] - 2s 4ms/step - loss: 0.1553 - accuracy: 0.9809 - val_loss: 0.1443 - val_accuracy: 0.9872\n",
      "Epoch 20/50\n",
      "566/566 [==============================] - 2s 3ms/step - loss: 0.1502 - accuracy: 0.9844 - val_loss: 0.1262 - val_accuracy: 0.9926\n",
      "Epoch 21/50\n",
      "566/566 [==============================] - 2s 3ms/step - loss: 0.1387 - accuracy: 0.9866 - val_loss: 0.1197 - val_accuracy: 0.9942\n",
      "Epoch 22/50\n",
      "566/566 [==============================] - 2s 3ms/step - loss: 0.1386 - accuracy: 0.9853 - val_loss: 0.1417 - val_accuracy: 0.9794\n",
      "Epoch 23/50\n",
      "566/566 [==============================] - 2s 3ms/step - loss: 0.1421 - accuracy: 0.9844 - val_loss: 0.1316 - val_accuracy: 0.9860\n",
      "Epoch 24/50\n",
      "566/566 [==============================] - 2s 4ms/step - loss: 0.1458 - accuracy: 0.9843 - val_loss: 0.1249 - val_accuracy: 0.9872\n",
      "Epoch 25/50\n",
      "566/566 [==============================] - 3s 5ms/step - loss: 0.1412 - accuracy: 0.9850 - val_loss: 0.1190 - val_accuracy: 0.9938\n",
      "Epoch 26/50\n",
      "566/566 [==============================] - 3s 4ms/step - loss: 0.1410 - accuracy: 0.9848 - val_loss: 0.1171 - val_accuracy: 0.9922\n",
      "Epoch 27/50\n",
      "566/566 [==============================] - 2s 4ms/step - loss: 0.1381 - accuracy: 0.9841 - val_loss: 0.1130 - val_accuracy: 0.9938\n",
      "Epoch 28/50\n",
      "566/566 [==============================] - 2s 4ms/step - loss: 0.1279 - accuracy: 0.9876 - val_loss: 0.1116 - val_accuracy: 0.9926\n",
      "Epoch 29/50\n",
      "566/566 [==============================] - 2s 3ms/step - loss: 0.1300 - accuracy: 0.9869 - val_loss: 0.1091 - val_accuracy: 0.9909\n",
      "Epoch 30/50\n",
      "566/566 [==============================] - 2s 3ms/step - loss: 0.1290 - accuracy: 0.9866 - val_loss: 0.1318 - val_accuracy: 0.9843\n",
      "Epoch 31/50\n",
      "566/566 [==============================] - 2s 4ms/step - loss: 0.1339 - accuracy: 0.9857 - val_loss: 0.1179 - val_accuracy: 0.9913\n",
      "Epoch 32/50\n",
      "566/566 [==============================] - 4s 6ms/step - loss: 0.1341 - accuracy: 0.9857 - val_loss: 0.1206 - val_accuracy: 0.9918\n",
      "Epoch 33/50\n",
      "566/566 [==============================] - 2s 3ms/step - loss: 0.1289 - accuracy: 0.9860 - val_loss: 0.1189 - val_accuracy: 0.9864\n",
      "Epoch 34/50\n",
      "566/566 [==============================] - 2s 4ms/step - loss: 0.1315 - accuracy: 0.9832 - val_loss: 0.1253 - val_accuracy: 0.9819\n",
      "Training Accuracy: 0.9924551844596863\n",
      "Test Accuracy: 0.9893248677253723\n"
     ]
    },
    {
     "data": {
      "image/png": "[encoded data removed]",
      "text/plain": [
       "<Figure size 1000x600 with 1 Axes>"
      ]
     },
     "metadata": {},
     "output_type": "display_data"
    },
    {
     "name": "stdout",
     "output_type": "stream",
     "text": [
      "Model: \"sequential\"\n",
      "_________________________________________________________________\n",
      " Layer (type)                Output Shape              Param #   \n",
      "=================================================================\n",
      " dense (Dense)               (None, 128)               2176      \n",
      "                                                                 \n",
      " dropout (Dropout)           (None, 128)               0         \n",
      "                                                                 \n",
      " dense_1 (Dense)             (None, 64)                8256      \n",
      "                                                                 \n",
      " dense_2 (Dense)             (None, 5)                 325       \n",
      "                                                                 \n",
      "=================================================================\n",
      "Total params: 10757 (42.02 KB)\n",
      "Trainable params: 10757 (42.02 KB)\n",
      "Non-trainable params: 0 (0.00 Byte)\n",
      "_________________________________________________________________\n"
     ]
    }
   ],
   "source": [
    "from tensorflow.keras.models import Sequential\n",
    "from tensorflow.keras.layers import Dense, Dropout\n",
    "from tensorflow.keras.callbacks import EarlyStopping\n",
    "from tensorflow.keras.optimizers import Adam\n",
    "from tensorflow.keras.utils import to_categorical\n",
    "from sklearn.model_selection import train_test_split\n",
    "from sklearn.preprocessing import StandardScaler\n",
    "import matplotlib.pyplot as plt\n",
    "import numpy as np\n",
    "import pandas as pd\n",
    "from keras.regularizers import l2\n",
    "\n",
    "# File Load\n",
    "file_path = '/content/drive/MyDrive/combined output.csv'\n",
    "data = pd.read_csv(file_path)\n",
    "\n",
    "# Define features (X) and target (y)\n",
    "X = data.drop(['Frame Num', 'Class'], axis=1)\n",
    "y = data['Class']  # Use 'Class' column as target\n",
    "\n",
    "# Data scaling\n",
    "scaler = StandardScaler()\n",
    "\n",
    "# Split the data into training and testing sets (70% training, 30% testing)\n",
    "X_train, X_test, y_train, y_test = train_test_split(X, y, test_size=0.3, random_state=42, shuffle=True)\n",
    "\n",
    "X_train_scaled = scaler.fit_transform(X_train)\n",
    "X_test_scaled = scaler.transform(X_test)\n",
    "\n",
    "# One-hot encode the target variable\n",
    "num_classes = len(np.unique(y_train))\n",
    "y_train_encoded = to_categorical(y_train - 1, num_classes)\n",
    "y_test_encoded = to_categorical(y_test - 1, num_classes)\n",
    "\n",
    "# Early stopping callback setup\n",
    "early_stopping = EarlyStopping(monitor='val_loss', patience=5, restore_best_weights=True)\n",
    "\n",
    "# Build a DNN model with L2 regularization\n",
    "model = Sequential([\n",
    "    Dense(128, activation='relu', kernel_regularizer=l2(0.02), input_shape=(X_train_scaled.shape[1],)),\n",
    "    Dropout(0.5),\n",
    "    Dense(64, activation='relu', kernel_regularizer=l2(0.02)),\n",
    "    Dense(num_classes, activation='softmax')\n",
    "])\n",
    "\n",
    "# Setup Adam optimizer\n",
    "optimizer = Adam(learning_rate=0.001)\n",
    "\n",
    "# Compile the model\n",
    "model.compile(optimizer=optimizer, loss='categorical_crossentropy', metrics=['accuracy'])\n",
    "\n",
    "# Model summary\n",
    "model.summary()\n",
    "\n",
    "# Train the model\n",
    "history = model.fit(\n",
    "    X_train_scaled, y_train_encoded,\n",
    "    epochs=50,\n",
    "    batch_size=10,\n",
    "    verbose=1,\n",
    "    validation_split=0.3,\n",
    "    callbacks=[early_stopping]\n",
    ")\n",
    "\n",
    "# Evaluate the model on the training set\n",
    "train_loss, train_accuracy = model.evaluate(X_train_scaled, y_train_encoded, verbose=0)\n",
    "print(f'Training Accuracy: {train_accuracy}')\n",
    "\n",
    "# Evaluate the model on the test set\n",
    "test_loss, test_accuracy = model.evaluate(X_test_scaled, y_test_encoded, verbose=0)\n",
    "print(f'Test Accuracy: {test_accuracy}')\n",
    "\n",
    "# Visualization of training loss and validation loss\n",
    "plt.figure(figsize=(10, 6))\n",
    "plt.plot(history.history['loss'], label='Training Loss')\n",
    "plt.plot(history.history['val_loss'], label='Validation Loss')\n",
    "plt.title('Training and Validation Loss')\n",
    "plt.xlabel('Epoch')\n",
    "plt.ylabel('Loss')\n",
    "plt.legend()\n",
    "plt.show()\n",
    "model.summary()"
   ]
  },
  {
   "cell_type": "markdown",
   "metadata": {
    "id": "gWbnCzweyXi6"
   },
   "source": [
    "**6. Accuracy Comparison**"
   ]
  },
  {
   "cell_type": "code",
   "execution_count": null,
   "metadata": {
    "colab": {
     "base_uri": "https://localhost:8080/",
     "height": 649
    },
    "id": "EtwdaW6LscLf",
    "outputId": "988978bb-fde3-4df3-c30e-3ab2a13d860a"
   },
   "outputs": [
    {
     "name": "stdout",
     "output_type": "stream",
     "text": [
      "KNN Mean Cross-Validation Accuracy: 0.9939391621486005\n",
      "KNN Standard Deviation of Cross-Validation Accuracy: 0.002310740663505506\n",
      "Random Forest Mean Cross-Validation Accuracy: 0.9996290188351343\n",
      "Random Forest Standard Deviation of Cross-Validation Accuracy: 0.0005666832274632455\n",
      "DNN Mean Cross-Validation Accuracy: 0.9954232394695282\n",
      "DNN Standard Deviation of Cross-Validation Accuracy: 0.002415997149850832\n"
     ]
    },
    {
     "data": {
      "image/png": "[encoded data removed]",
      "text/plain": [
       "<Figure size 1000x600 with 1 Axes>"
      ]
     },
     "metadata": {},
     "output_type": "display_data"
    }
   ],
   "source": [
    "import pandas as pd\n",
    "import numpy as np\n",
    "from sklearn.model_selection import train_test_split, KFold\n",
    "from sklearn.preprocessing import StandardScaler\n",
    "from sklearn.neighbors import KNeighborsClassifier\n",
    "from sklearn.ensemble import RandomForestClassifier\n",
    "from sklearn.metrics import accuracy_score\n",
    "import matplotlib.pyplot as plt\n",
    "from tensorflow.keras.models import Sequential\n",
    "from tensorflow.keras.layers import Dense, Dropout\n",
    "from tensorflow.keras.callbacks import EarlyStopping\n",
    "from tensorflow.keras.optimizers import Adam\n",
    "from tensorflow.keras.utils import to_categorical\n",
    "from keras.regularizers import l2\n",
    "\n",
    "# File Load\n",
    "file_path = '/content/drive/MyDrive/combined output.csv'\n",
    "data = pd.read_csv(file_path)\n",
    "\n",
    "# Define features (X) and target (y)\n",
    "X = data.drop(['Frame Num', 'Class'], axis=1)\n",
    "y = data['Class']\n",
    "\n",
    "# Split the data into training and testing sets\n",
    "X_train, X_test, y_train, y_test = train_test_split(X, y, test_size=0.3, random_state=42, shuffle=True)\n",
    "\n",
    "# Data scaling for KNN and Deep Learning\n",
    "scaler = StandardScaler()\n",
    "X_train_scaled = scaler.fit_transform(X_train)\n",
    "X_test_scaled = scaler.transform(X_test)\n",
    "\n",
    "# KNN Model (k=10)\n",
    "k = 10\n",
    "knn = KNeighborsClassifier(n_neighbors=k)\n",
    "\n",
    "# Random Forest Model\n",
    "rf_classifier = RandomForestClassifier(max_depth=16, random_state=42)\n",
    "\n",
    "# Build DNN model function\n",
    "def create_dnn_model(input_shape, num_classes):\n",
    "    model = Sequential([\n",
    "        Dense(128, activation='relu', kernel_regularizer=l2(0.02), input_shape=(input_shape,)),\n",
    "        Dropout(0.5),\n",
    "        Dense(64, activation='relu', kernel_regularizer=l2(0.02)),\n",
    "        Dense(num_classes, activation='softmax')\n",
    "    ])\n",
    "    optimizer = Adam(learning_rate=0.001)\n",
    "    model.compile(optimizer=optimizer, loss='categorical_crossentropy', metrics=['accuracy'])\n",
    "    return model\n",
    "\n",
    "# Encode labels for DNN\n",
    "num_classes = len(np.unique(y_train))\n",
    "y_train_encoded = to_categorical(y_train - 1, num_classes)\n",
    "y_test_encoded = to_categorical(y_test - 1, num_classes)\n",
    "\n",
    "# Evaluate KNN Model with Cross-Validation\n",
    "k_fold = 10\n",
    "knn_cv_scores = cross_val_score(knn, X_train_scaled, y_train, cv=k_fold)\n",
    "\n",
    "# Evaluate Random Forest Model with Cross-Validation\n",
    "rf_cv_scores = cross_val_score(rf_classifier, X_train, y_train, cv=k_fold)\n",
    "\n",
    "# Evaluate DNN Model with Cross-Validation\n",
    "kf = KFold(n_splits=k_fold, shuffle=True, random_state=42)\n",
    "dnn_cv_scores = []\n",
    "\n",
    "for train_index, val_index in kf.split(X_train_scaled):\n",
    "    X_train_cv, X_val_cv = X_train_scaled[train_index], X_train_scaled[val_index]\n",
    "    y_train_cv, y_val_cv = y_train_encoded[train_index], y_train_encoded[val_index]\n",
    "    model = create_dnn_model(X_train_scaled.shape[1], num_classes)\n",
    "    early_stopping = EarlyStopping(monitor='val_loss', patience=5, restore_best_weights=True)\n",
    "    model.fit(X_train_cv, y_train_cv, epochs=50, batch_size=10, verbose=0, validation_data=(X_val_cv, y_val_cv), callbacks=[early_stopping])\n",
    "    score = model.evaluate(X_val_cv, y_val_cv, verbose=0)\n",
    "    dnn_cv_scores.append(score[1])\n",
    "\n",
    "dnn_cv_scores = np.array(dnn_cv_scores)\n",
    "\n",
    "# Calculate mean and standard deviation for KNN\n",
    "knn_mean_cv_accuracy = np.mean(knn_cv_scores)\n",
    "knn_std_cv_accuracy = np.std(knn_cv_scores)\n",
    "\n",
    "# Calculate mean and standard deviation for Random Forest\n",
    "rf_mean_cv_accuracy = np.mean(rf_cv_scores)\n",
    "rf_std_cv_accuracy = np.std(rf_cv_scores)\n",
    "\n",
    "# Calculate mean and standard deviation for DNN\n",
    "dnn_mean_cv_accuracy = np.mean(dnn_cv_scores)\n",
    "dnn_std_cv_accuracy = np.std(dnn_cv_scores)\n",
    "\n",
    "print(f'KNN Mean Cross-Validation Accuracy: {knn_mean_cv_accuracy}')\n",
    "print(f'KNN Standard Deviation of Cross-Validation Accuracy: {knn_std_cv_accuracy}')\n",
    "print(f'Random Forest Mean Cross-Validation Accuracy: {rf_mean_cv_accuracy}')\n",
    "print(f'Random Forest Standard Deviation of Cross-Validation Accuracy: {rf_std_cv_accuracy}')\n",
    "print(f'DNN Mean Cross-Validation Accuracy: {dnn_mean_cv_accuracy}')\n",
    "print(f'DNN Standard Deviation of Cross-Validation Accuracy: {dnn_std_cv_accuracy}')\n",
    "\n",
    "# Visualization of accuracy with error bars for all models\n",
    "plt.figure(figsize=(10, 6))\n",
    "plt.errorbar(x=['KNN'], y=[knn_mean_cv_accuracy], yerr=[knn_std_cv_accuracy], fmt='o', capsize=5, capthick=2, label='KNN')\n",
    "plt.errorbar(x=['Random Forest'], y=[rf_mean_cv_accuracy], yerr=[rf_std_cv_accuracy], fmt='o', capsize=5, capthick=2, label='Random Forest')\n",
    "plt.errorbar(x=['DNN'], y=[dnn_mean_cv_accuracy], yerr=[dnn_std_cv_accuracy], fmt='o', capsize=5, capthick=2, label='DNN')\n",
    "plt.ylabel('Accuracy')\n",
    "plt.title('Model Accuracy with Error Bars')\n",
    "plt.legend()\n",
    "plt.ylim(0.99, 1.0)  # Adjust y-axis range as needed\n",
    "plt.show()"
   ]
  }
 ],
 "metadata": {
  "colab": {
   "provenance": []
  },
  "kernelspec": {
   "display_name": "Python 3 (ipykernel)",
   "language": "python",
   "name": "python3"
  },
  "language_info": {
   "codemirror_mode": {
    "name": "ipython",
    "version": 3
   },
   "file_extension": ".py",
   "mimetype": "text/x-python",
   "name": "python",
   "nbconvert_exporter": "python",
   "pygments_lexer": "ipython3",
   "version": "3.8.6"
  }
 },
 "nbformat": 4,
 "nbformat_minor": 4
}
