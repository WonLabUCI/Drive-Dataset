{
  "cells": [
    {
      "cell_type": "code",
      "execution_count": null,
      "metadata": {
        "colab": {
          "base_uri": "https://localhost:8080/"
        },
        "id": "EFZ5Gmd0Iadj",
        "outputId": "20ba818f-c35d-4be7-949d-7f0f51d24b52"
      },
      "outputs": [
        {
          "output_type": "stream",
          "name": "stdout",
          "text": [
            "Mounted at /content/drive\n"
          ]
        }
      ],
      "source": [
        "from google.colab import drive\n",
        "drive.mount('/content/drive')\n"
      ]
    },
    {
      "cell_type": "code",
      "execution_count": null,
      "metadata": {
        "colab": {
          "base_uri": "https://localhost:8080/"
        },
        "id": "ugX3S93GoQuD",
        "outputId": "b7b0da29-72d0-4c98-a5be-4d09fdc3e634"
      },
      "outputs": [
        {
          "output_type": "stream",
          "name": "stdout",
          "text": [
            "Sat Jun  8 15:11:55 2024       \n",
            "+---------------------------------------------------------------------------------------+\n",
            "| NVIDIA-SMI 535.104.05             Driver Version: 535.104.05   CUDA Version: 12.2     |\n",
            "|-----------------------------------------+----------------------+----------------------+\n",
            "| GPU  Name                 Persistence-M | Bus-Id        Disp.A | Volatile Uncorr. ECC |\n",
            "| Fan  Temp   Perf          Pwr:Usage/Cap |         Memory-Usage | GPU-Util  Compute M. |\n",
            "|                                         |                      |               MIG M. |\n",
            "|=========================================+======================+======================|\n",
            "|   0  NVIDIA A100-SXM4-40GB          Off | 00000000:00:04.0 Off |                    0 |\n",
            "| N/A   33C    P0              45W / 400W |      2MiB / 40960MiB |      0%      Default |\n",
            "|                                         |                      |             Disabled |\n",
            "+-----------------------------------------+----------------------+----------------------+\n",
            "                                                                                         \n",
            "+---------------------------------------------------------------------------------------+\n",
            "| Processes:                                                                            |\n",
            "|  GPU   GI   CI        PID   Type   Process name                            GPU Memory |\n",
            "|        ID   ID                                                             Usage      |\n",
            "|=======================================================================================|\n",
            "|  No running processes found                                                           |\n",
            "+---------------------------------------------------------------------------------------+\n"
          ]
        }
      ],
      "source": [
        "!nvidia-smi"
      ]
    },
    {
      "cell_type": "markdown",
      "metadata": {
        "id": "3C3EO_2zNChu"
      },
      "source": [
        "# **Install YOLOv8**\n",
        "\n",
        "⚠️ YOLOv8 is still under heavy development. Breaking changes are being introduced almost weekly. We strive to make our YOLOv8 notebooks work with the latest version of the library. Last tests took place on **03.01.2024** with version **YOLOv8.0.196**.\n"
      ]
    },
    {
      "cell_type": "code",
      "execution_count": null,
      "metadata": {
        "colab": {
          "base_uri": "https://localhost:8080/"
        },
        "id": "tdSMcABDNKW-",
        "outputId": "65079a07-df39-400c-d5b1-3de3abff1b27"
      },
      "outputs": [
        {
          "output_type": "stream",
          "name": "stderr",
          "text": [
            "Ultralytics YOLOv8.0.196 🚀 Python-3.10.12 torch-2.3.0+cu121 CUDA:0 (NVIDIA A100-SXM4-40GB, 40514MiB)\n",
            "Setup complete ✅ (12 CPUs, 83.5 GB RAM, 30.0/78.2 GB disk)\n"
          ]
        }
      ],
      "source": [
        "# Pip install method (recommended)\n",
        "\n",
        "!pip install ultralytics==8.0.196\n",
        "\n",
        "from IPython import display\n",
        "display.clear_output()\n",
        "\n",
        "import ultralytics\n",
        "ultralytics.checks()"
      ]
    },
    {
      "cell_type": "code",
      "execution_count": null,
      "metadata": {
        "id": "VOEYrlBoP9-E"
      },
      "outputs": [],
      "source": [
        "from ultralytics import YOLO\n",
        "\n",
        "from IPython.display import display, Image"
      ]
    },
    {
      "cell_type": "markdown",
      "source": [
        "#**RGB Object Detection**"
      ],
      "metadata": {
        "id": "dFgEur71bkqV"
      }
    },
    {
      "cell_type": "markdown",
      "metadata": {
        "id": "YUjFBKKqXa-u"
      },
      "source": [
        "## **Custom Training**"
      ]
    },
    {
      "cell_type": "markdown",
      "source": [
        "Please enter the path to RGB Dataset"
      ],
      "metadata": {
        "id": "Z6bCeF2WcQ_M"
      }
    },
    {
      "cell_type": "code",
      "execution_count": null,
      "metadata": {
        "colab": {
          "base_uri": "https://localhost:8080/"
        },
        "id": "D0QEC6mG9_h0",
        "outputId": "b26db3ed-17ac-4319-a8b9-e7bffa995775"
      },
      "outputs": [
        {
          "output_type": "stream",
          "name": "stdout",
          "text": [
            "/content/drive/MyDrive/Hyundai_Projects/RGB_Object_Detection\n"
          ]
        }
      ],
      "source": [
        "%cd '/content/drive/MyDrive/Hyundai_Projects/RGB_Object_Detection'"
      ]
    },
    {
      "cell_type": "code",
      "execution_count": null,
      "metadata": {
        "colab": {
          "base_uri": "https://localhost:8080/"
        },
        "id": "rO_qojLL-uBK",
        "outputId": "2cdd0949-a1d2-43d7-8c26-653bd64a889c"
      },
      "outputs": [
        {
          "output_type": "stream",
          "name": "stdout",
          "text": [
            "/content/drive/MyDrive/Hyundai_Projects/RGB_Object_Detection\n"
          ]
        }
      ],
      "source": [
        "# Display the current working directory to verify the path and ensure subsequent file operations are executed in the correct location.\n",
        "!pwd"
      ]
    },
    {
      "cell_type": "code",
      "execution_count": null,
      "metadata": {
        "colab": {
          "base_uri": "https://localhost:8080/"
        },
        "id": "SEM8AKir-xWG",
        "outputId": "bda0091a-ca50-457e-b34a-b10bff7c58c1"
      },
      "outputs": [
        {
          "output_type": "stream",
          "name": "stdout",
          "text": [
            "data.yaml    README.dataset.txt   runs\t valid\t     yolov8x.pt\n",
            "Labeled_RGB  README.roboflow.txt  train  yolov8n.pt\n"
          ]
        }
      ],
      "source": [
        "# List all files and directories in the current working directory to ensure required files or directories are present before proceeding.\n",
        "!ls"
      ]
    },
    {
      "cell_type": "markdown",
      "source": [
        "Ensure you specify the paths for the training and validation datasets in the data.yaml file.\n",
        "\n",
        "Example data.yaml content:\n",
        "\n",
        "*   train: '/path/to/your/training/data'\n",
        "*   val: '/path/to/your/validation/data'"
      ],
      "metadata": {
        "id": "gXLWz8y9a5_a"
      }
    },
    {
      "cell_type": "code",
      "source": [
        "!yolo task=detect mode=train model=yolov8x.pt data='/content/drive/MyDrive/Hyundai_Projects/RGB_Object_Detection/data.yaml' epochs=200 imgsz=640 plots=True"
      ],
      "metadata": {
        "id": "qtL30qc8aDK1"
      },
      "execution_count": null,
      "outputs": []
    },
    {
      "cell_type": "markdown",
      "metadata": {
        "id": "6ODk1VTlevxn"
      },
      "source": [
        "## **Validate Custom Model**"
      ]
    },
    {
      "cell_type": "code",
      "execution_count": null,
      "metadata": {
        "id": "YpyuwrNlXc1P"
      },
      "outputs": [],
      "source": [
        "!yolo task=detect mode=val model=\"/content/drive/MyDrive/Hyundai_Projects/RGB_Object_Detection/runs/detect/train2/weights/best.pt\" data=/content/drive/MyDrive/Hyundai_Projects/RGB_Object_Detection/data.yaml"
      ]
    },
    {
      "cell_type": "markdown",
      "metadata": {
        "id": "i4eASbcWkQBq"
      },
      "source": [
        "## **Inference with Custom Model**"
      ]
    },
    {
      "cell_type": "code",
      "execution_count": null,
      "metadata": {
        "id": "Wjc1ctZykYuf"
      },
      "outputs": [],
      "source": [
        "!yolo task=detect mode=predict model='/content/runs/detect/train3/weights/best.pt' conf=0.50 source='/content/IR_CAM_I-1/train/images' save=True"
      ]
    },
    {
      "cell_type": "markdown",
      "metadata": {
        "id": "9iBH8sIAQxZN"
      },
      "source": [
        "#**IR Object Detection**"
      ]
    },
    {
      "cell_type": "markdown",
      "metadata": {
        "id": "taRXLfUGbziB"
      },
      "source": [
        "## **Custom Training**"
      ]
    },
    {
      "cell_type": "markdown",
      "source": [
        "Please enter the path to IR Dataset"
      ],
      "metadata": {
        "id": "aDAKPV2wcUc3"
      }
    },
    {
      "cell_type": "code",
      "execution_count": null,
      "metadata": {
        "colab": {
          "base_uri": "https://localhost:8080/"
        },
        "id": "_Yz4FWoDQ60f",
        "outputId": "4379dd9b-a8c0-483b-c6d6-48ddb437c9df"
      },
      "outputs": [
        {
          "output_type": "stream",
          "name": "stdout",
          "text": [
            "/content/drive/MyDrive/Hyundai_Projects/IR_Object_Detection\n"
          ]
        }
      ],
      "source": [
        "%cd '/content/drive/MyDrive/Hyundai_Projects/IR_Object_Detection'"
      ]
    },
    {
      "cell_type": "code",
      "execution_count": null,
      "metadata": {
        "colab": {
          "base_uri": "https://localhost:8080/"
        },
        "id": "Wh6_UORhQ60q",
        "outputId": "96a543ed-8f7b-4a23-cc8e-68706e312c12"
      },
      "outputs": [
        {
          "output_type": "stream",
          "name": "stdout",
          "text": [
            "/content/drive/MyDrive/Hyundai_Projects/IR_Object_Detection\n"
          ]
        }
      ],
      "source": [
        "# Display the current working directory to verify the path and ensure subsequent file operations are executed in the correct location.\n",
        "!pwd"
      ]
    },
    {
      "cell_type": "code",
      "execution_count": null,
      "metadata": {
        "colab": {
          "base_uri": "https://localhost:8080/"
        },
        "id": "c8OE0qaVQ60q",
        "outputId": "05714e71-f2a0-49fd-b44b-baa87ef1ce9e"
      },
      "outputs": [
        {
          "output_type": "stream",
          "name": "stdout",
          "text": [
            "data.yaml  README.dataset.txt  README.roboflow.txt  runs  train  valid\tyolov8n.pt  yolov8x.pt\n"
          ]
        }
      ],
      "source": [
        "# List all files and directories in the current working directory to ensure required files or directories are present before proceeding.\n",
        "!ls"
      ]
    },
    {
      "cell_type": "markdown",
      "source": [
        "Ensure you specify the paths for the training and validation datasets in the data.yaml file.\n",
        "\n",
        "Example data.yaml content:\n",
        "\n",
        "*   train: '/path/to/your/training/data'\n",
        "*   val: '/path/to/your/validation/data'"
      ],
      "metadata": {
        "id": "UKahwNRUb4kn"
      }
    },
    {
      "cell_type": "code",
      "source": [
        "!yolo task=detect mode=train model=yolov8x.pt data=/content/drive/MyDrive/Hyundai_Projects/IR_Object_Detection/data.yaml epochs=200 imgsz=640 plots=True"
      ],
      "metadata": {
        "id": "2mTRPyLLepQD"
      },
      "execution_count": null,
      "outputs": []
    },
    {
      "cell_type": "markdown",
      "metadata": {
        "id": "4p93DkDLb-_4"
      },
      "source": [
        "## **Validate Custom Model**"
      ]
    },
    {
      "cell_type": "code",
      "execution_count": null,
      "metadata": {
        "id": "qWMMxuJ9gFzg"
      },
      "outputs": [],
      "source": [
        "!yolo task=detect mode=predict model='/content/runs/detect/train4/weights/best.pt' conf=0.50 source='/content/RGB' save=True"
      ]
    }
  ],
  "metadata": {
    "accelerator": "GPU",
    "colab": {
      "gpuType": "L4",
      "provenance": []
    },
    "kernelspec": {
      "display_name": "Python 3",
      "name": "python3"
    },
    "language_info": {
      "name": "python"
    }
  },
  "nbformat": 4,
  "nbformat_minor": 0
}