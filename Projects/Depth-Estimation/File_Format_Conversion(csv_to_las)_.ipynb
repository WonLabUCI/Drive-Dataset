{
  "nbformat": 4,
  "nbformat_minor": 0,
  "metadata": {
    "colab": {
      "provenance": []
    },
    "kernelspec": {
      "name": "python3",
      "display_name": "Python 3"
    },
    "language_info": {
      "name": "python"
    }
  },
  "cells": [
    {
      "cell_type": "code",
      "source": [
        "# CSV file path\n",
        "csv_file_path = 'path/to/your/input/*.csv'\n",
        "\n",
        "# Read CSV file\n",
        "df = pd.read_csv(csv_file_path)\n",
        "\n",
        "# Extract point cloud data\n",
        "frame_num = df['Frame Num'].values\n",
        "lidar_id = df['LidarID'].values\n",
        "stop_id = df['StopID'].values\n",
        "timestamp = df['TimeStamp'].values\n",
        "x = df['X'].values\n",
        "y = df['Y'].values\n",
        "z = df['Z'].values\n",
        "intensity = df['Intensity'].values\n",
        "azimuth = df['Azimuth'].values\n",
        "vertical_angle = df['VerticalAngle'].values\n",
        "distance = df['Distance'].values\n",
        "\n",
        "# Create LAS file\n",
        "header = laspy.LasHeader(point_format=3, version=\"1.2\")\n",
        "las = laspy.LasData(header)\n",
        "\n",
        "las.x = x\n",
        "las.y = y\n",
        "las.z = z\n",
        "las.intensity = intensity\n",
        "\n",
        "# Add custom fields\n",
        "las.add_extra_dim(laspy.ExtraBytesParams(name=\"frame_num\", type=np.uint32))\n",
        "las.add_extra_dim(laspy.ExtraBytesParams(name=\"lidar_id\", type=np.uint8))\n",
        "las.add_extra_dim(laspy.ExtraBytesParams(name=\"stop_id\", type=np.uint8))\n",
        "las.add_extra_dim(laspy.ExtraBytesParams(name=\"timestamp\", type=np.uint64))\n",
        "las.add_extra_dim(laspy.ExtraBytesParams(name=\"azimuth\", type=np.float64))\n",
        "las.add_extra_dim(laspy.ExtraBytesParams(name=\"vertical_angle\", type=np.float64))\n",
        "las.add_extra_dim(laspy.ExtraBytesParams(name=\"distance\", type=np.float64))\n",
        "\n",
        "# Assign additional attributes\n",
        "las.frame_num = frame_num\n",
        "las.lidar_id = lidar_id\n",
        "las.stop_id = stop_id\n",
        "las.timestamp = timestamp\n",
        "las.azimuth = azimuth\n",
        "las.vertical_angle = vertical_angle\n",
        "las.distance = distance\n",
        "\n",
        "# Save LAS file\n",
        "las_file = 'path/to/your/output/combined_output.las'\n",
        "las.write(las_file)"
      ],
      "metadata": {
        "id": "i3TKUfd2HWAW"
      },
      "execution_count": null,
      "outputs": []
    }
  ]
}